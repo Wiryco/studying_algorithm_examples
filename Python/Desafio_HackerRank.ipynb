{
  "nbformat": 4,
  "nbformat_minor": 0,
  "metadata": {
    "colab": {
      "provenance": [],
      "authorship_tag": "ABX9TyMGA7DYGhZzJpcvqNF2GwcF"
    },
    "kernelspec": {
      "name": "python3",
      "display_name": "Python 3"
    },
    "language_info": {
      "name": "python"
    }
  },
  "cells": [
    {
      "cell_type": "code",
      "execution_count": 13,
      "metadata": {
        "id": "8b8p42Z1biEI"
      },
      "outputs": [],
      "source": [
        "def createArrNumber():\n",
        "  _arrNumber = []\n",
        "  for i in range(10):\n",
        "    _arrNumber.append(str(i))\n",
        "  return _arrNumber\n",
        "\n",
        "def createArrStr():\n",
        "  _arrStr = []\n",
        "  for i in range(ord('a'), ord('z')+1):\n",
        "    _arrStr.append(chr(i))\n",
        "  return _arrStr"
      ]
    },
    {
      "cell_type": "code",
      "source": [
        "def func_hackeRank(_str):\n",
        "  arrNumber = createArrNumber()\n",
        "  arrStr = createArrStr()\n",
        "  _strFormat = ''\n",
        "\n",
        "  for i in _str:\n",
        "    if i in arrNumber:\n",
        "      arrNumber.remove(i)\n",
        "    if i in arrStr:\n",
        "      arrStr.remove(i)\n",
        "\n",
        "  for i in arrNumber + arrStr:\n",
        "    _strFormat += str(i)\n",
        "  \n",
        "  return _strFormat"
      ],
      "metadata": {
        "id": "bt5gAqIRcRUN"
      },
      "execution_count": 14,
      "outputs": []
    },
    {
      "cell_type": "code",
      "source": [
        "print(func_hackeRank('89djnbolkhnadgb2300'))"
      ],
      "metadata": {
        "colab": {
          "base_uri": "https://localhost:8080/"
        },
        "id": "ypAg2N9Wde8a",
        "outputId": "5d37c0ee-8935-438d-93f2-d01044168461"
      },
      "execution_count": 17,
      "outputs": [
        {
          "output_type": "stream",
          "name": "stdout",
          "text": [
            "14567cefimpqrstuvwxyz\n"
          ]
        }
      ]
    }
  ]
}